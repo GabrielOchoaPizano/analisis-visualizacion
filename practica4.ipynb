{
  "nbformat": 4,
  "nbformat_minor": 0,
  "metadata": {
    "colab": {
      "provenance": [],
      "include_colab_link": true
    },
    "kernelspec": {
      "name": "python3",
      "display_name": "Python 3"
    },
    "language_info": {
      "name": "python"
    }
  },
  "cells": [
    {
      "cell_type": "markdown",
      "metadata": {
        "id": "view-in-github",
        "colab_type": "text"
      },
      "source": [
        "<a href=\"https://colab.research.google.com/github/GabrielOchoaPizano/analisis-visualizacion/blob/main/practica4.ipynb\" target=\"_parent\"><img src=\"https://colab.research.google.com/assets/colab-badge.svg\" alt=\"Open In Colab\"/></a>"
      ]
    },
    {
      "cell_type": "markdown",
      "source": [
        "1. Obtención del conjunto de datos<p>\n",
        "Se debe implementar un programa que consuma los datos desde un servidor\n",
        "generador de datos en el canal4-1 únicamente, ya que corresponde a los\n",
        "datos de la práctica 4 en su primera parte. El conjunto de datos crea una\n",
        "nube inicial de puntos."
      ],
      "metadata": {
        "id": "6etK-sTe_0er"
      }
    },
    {
      "cell_type": "code",
      "execution_count": null,
      "metadata": {
        "id": "QEycCON5_a0J"
      },
      "outputs": [],
      "source": [
        "import redis\n",
        "import time, json\n",
        "import csv\n",
        "\n",
        "r = redis.Redis(host='192.168.68.105', port=6379, db=0, charset=\"utf-8\", decode_responses=True)\n",
        "\n",
        "p = r.pubsub()\n",
        "\n",
        "p.subscribe(\"canal4-1\")\n",
        "\n",
        "csv_file = open('data.csv', mode='w', newline='')\n",
        "fieldnames = ['id', 'clase', 'x'] # lista con los nombres de los campos que quieres guardar en el archivo CSV\n",
        "writer = csv.DictWriter(csv_file, fieldnames=fieldnames)\n",
        "writer.writeheader()\n",
        "\n",
        "while True:\n",
        "  message = p.get_message()\n",
        "  if message and message.get(\"type\") == \"message\":\n",
        "    data = json.loads(message['data'].encode('utf-8'))\n",
        "    print(message)\n",
        "    writer.writerow(data)\n",
        "  time.sleep(0.01)\n",
        "\n",
        "csv_file.close()"
      ]
    },
    {
      "cell_type": "markdown",
      "source": [
        "2. Visualización inicial de los datos<p>\n",
        "En este punto se deben imprimir los datos obtenidos y visualizarlos de\n",
        "manera gráfica. Se debe tener claridad de cómo llegan los datos para\n",
        "organizarlos en las estructuras requeridas para los formatos de las librerías\n",
        "de matplotlib"
      ],
      "metadata": {
        "id": "qpmaaRlrACBQ"
      }
    },
    {
      "cell_type": "code",
      "source": [
        "from google.colab import drive\n",
        "\n",
        "drive.mount('/content/drive')\n",
        "carpeta_nombre = \"/content/drive/MyDrive/A&V/\"\n",
        "archivo_nombre = \"data.csv\"\n",
        "ruta_completa = carpeta_nombre + archivo_nombre"
      ],
      "metadata": {
        "colab": {
          "base_uri": "https://localhost:8080/"
        },
        "id": "OMoH55V1AENI",
        "outputId": "703d1c06-e514-4bc0-d748-9ac6c01a842d"
      },
      "execution_count": 1,
      "outputs": [
        {
          "output_type": "stream",
          "name": "stdout",
          "text": [
            "Mounted at /content/drive\n"
          ]
        }
      ]
    },
    {
      "cell_type": "code",
      "source": [
        "import pandas as pd\n",
        "\n",
        "datos = pd.read_csv(ruta_completa)\n",
        "\n",
        "print(datos)\n"
      ],
      "metadata": {
        "id": "uDAUCZS3nInk",
        "colab": {
          "base_uri": "https://localhost:8080/"
        },
        "outputId": "2d95fd48-2c87-4198-c324-80f394870be4"
      },
      "execution_count": 2,
      "outputs": [
        {
          "output_type": "stream",
          "name": "stdout",
          "text": [
            "      id  clase                     x\n",
            "0      0      0  [5.1, 3.5, 1.4, 0.2]\n",
            "1      1      0  [4.9, 3.0, 1.4, 0.2]\n",
            "2      2      0  [4.7, 3.2, 1.3, 0.2]\n",
            "3      3      0  [4.6, 3.1, 1.5, 0.2]\n",
            "4      4      0  [5.0, 3.6, 1.4, 0.2]\n",
            "..   ...    ...                   ...\n",
            "145  145      2  [6.7, 3.0, 5.2, 2.3]\n",
            "146  146      2  [6.3, 2.5, 5.0, 1.9]\n",
            "147  147      2  [6.5, 3.0, 5.2, 2.0]\n",
            "148  148      2  [6.2, 3.4, 5.4, 2.3]\n",
            "149  149      2  [5.9, 3.0, 5.1, 1.8]\n",
            "\n",
            "[150 rows x 3 columns]\n"
          ]
        }
      ]
    },
    {
      "cell_type": "code",
      "source": [
        "import numpy as np\n",
        "import matplotlib.pyplot as plt\n",
        "from ast import literal_eval\n",
        "\n",
        "\n",
        "datos2 = pd.read_csv(ruta_completa, converters={\"x\": literal_eval})\n",
        "matriz2 = np.array(datos2[\"x\"].tolist())\n",
        "print(matriz2)\n",
        "\n"
      ],
      "metadata": {
        "colab": {
          "base_uri": "https://localhost:8080/"
        },
        "id": "2EMsUOFePo4Q",
        "outputId": "7298ba2b-d4a0-424e-eeb6-e3dfd33e2eb4"
      },
      "execution_count": 4,
      "outputs": [
        {
          "output_type": "stream",
          "name": "stdout",
          "text": [
            "[[5.1 3.5 1.4 0.2]\n",
            " [4.9 3.  1.4 0.2]\n",
            " [4.7 3.2 1.3 0.2]\n",
            " [4.6 3.1 1.5 0.2]\n",
            " [5.  3.6 1.4 0.2]\n",
            " [5.4 3.9 1.7 0.4]\n",
            " [4.6 3.4 1.4 0.3]\n",
            " [5.  3.4 1.5 0.2]\n",
            " [4.4 2.9 1.4 0.2]\n",
            " [4.9 3.1 1.5 0.1]\n",
            " [5.4 3.7 1.5 0.2]\n",
            " [4.8 3.4 1.6 0.2]\n",
            " [4.8 3.  1.4 0.1]\n",
            " [4.3 3.  1.1 0.1]\n",
            " [5.8 4.  1.2 0.2]\n",
            " [5.7 4.4 1.5 0.4]\n",
            " [5.4 3.9 1.3 0.4]\n",
            " [5.1 3.5 1.4 0.3]\n",
            " [5.7 3.8 1.7 0.3]\n",
            " [5.1 3.8 1.5 0.3]\n",
            " [5.4 3.4 1.7 0.2]\n",
            " [5.1 3.7 1.5 0.4]\n",
            " [4.6 3.6 1.  0.2]\n",
            " [5.1 3.3 1.7 0.5]\n",
            " [4.8 3.4 1.9 0.2]\n",
            " [5.  3.  1.6 0.2]\n",
            " [5.  3.4 1.6 0.4]\n",
            " [5.2 3.5 1.5 0.2]\n",
            " [5.2 3.4 1.4 0.2]\n",
            " [4.7 3.2 1.6 0.2]\n",
            " [4.8 3.1 1.6 0.2]\n",
            " [5.4 3.4 1.5 0.4]\n",
            " [5.2 4.1 1.5 0.1]\n",
            " [5.5 4.2 1.4 0.2]\n",
            " [4.9 3.1 1.5 0.2]\n",
            " [5.  3.2 1.2 0.2]\n",
            " [5.5 3.5 1.3 0.2]\n",
            " [4.9 3.6 1.4 0.1]\n",
            " [4.4 3.  1.3 0.2]\n",
            " [5.1 3.4 1.5 0.2]\n",
            " [5.  3.5 1.3 0.3]\n",
            " [4.5 2.3 1.3 0.3]\n",
            " [4.4 3.2 1.3 0.2]\n",
            " [5.  3.5 1.6 0.6]\n",
            " [5.1 3.8 1.9 0.4]\n",
            " [4.8 3.  1.4 0.3]\n",
            " [5.1 3.8 1.6 0.2]\n",
            " [4.6 3.2 1.4 0.2]\n",
            " [5.3 3.7 1.5 0.2]\n",
            " [5.  3.3 1.4 0.2]\n",
            " [7.  3.2 4.7 1.4]\n",
            " [6.4 3.2 4.5 1.5]\n",
            " [6.9 3.1 4.9 1.5]\n",
            " [5.5 2.3 4.  1.3]\n",
            " [6.5 2.8 4.6 1.5]\n",
            " [5.7 2.8 4.5 1.3]\n",
            " [6.3 3.3 4.7 1.6]\n",
            " [4.9 2.4 3.3 1. ]\n",
            " [6.6 2.9 4.6 1.3]\n",
            " [5.2 2.7 3.9 1.4]\n",
            " [5.  2.  3.5 1. ]\n",
            " [5.9 3.  4.2 1.5]\n",
            " [6.  2.2 4.  1. ]\n",
            " [6.1 2.9 4.7 1.4]\n",
            " [5.6 2.9 3.6 1.3]\n",
            " [6.7 3.1 4.4 1.4]\n",
            " [5.6 3.  4.5 1.5]\n",
            " [5.8 2.7 4.1 1. ]\n",
            " [6.2 2.2 4.5 1.5]\n",
            " [5.6 2.5 3.9 1.1]\n",
            " [5.9 3.2 4.8 1.8]\n",
            " [6.1 2.8 4.  1.3]\n",
            " [6.3 2.5 4.9 1.5]\n",
            " [6.1 2.8 4.7 1.2]\n",
            " [6.4 2.9 4.3 1.3]\n",
            " [6.6 3.  4.4 1.4]\n",
            " [6.8 2.8 4.8 1.4]\n",
            " [6.7 3.  5.  1.7]\n",
            " [6.  2.9 4.5 1.5]\n",
            " [5.7 2.6 3.5 1. ]\n",
            " [5.5 2.4 3.8 1.1]\n",
            " [5.5 2.4 3.7 1. ]\n",
            " [5.8 2.7 3.9 1.2]\n",
            " [6.  2.7 5.1 1.6]\n",
            " [5.4 3.  4.5 1.5]\n",
            " [6.  3.4 4.5 1.6]\n",
            " [6.7 3.1 4.7 1.5]\n",
            " [6.3 2.3 4.4 1.3]\n",
            " [5.6 3.  4.1 1.3]\n",
            " [5.5 2.5 4.  1.3]\n",
            " [5.5 2.6 4.4 1.2]\n",
            " [6.1 3.  4.6 1.4]\n",
            " [5.8 2.6 4.  1.2]\n",
            " [5.  2.3 3.3 1. ]\n",
            " [5.6 2.7 4.2 1.3]\n",
            " [5.7 3.  4.2 1.2]\n",
            " [5.7 2.9 4.2 1.3]\n",
            " [6.2 2.9 4.3 1.3]\n",
            " [5.1 2.5 3.  1.1]\n",
            " [5.7 2.8 4.1 1.3]\n",
            " [6.3 3.3 6.  2.5]\n",
            " [5.8 2.7 5.1 1.9]\n",
            " [7.1 3.  5.9 2.1]\n",
            " [6.3 2.9 5.6 1.8]\n",
            " [6.5 3.  5.8 2.2]\n",
            " [7.6 3.  6.6 2.1]\n",
            " [4.9 2.5 4.5 1.7]\n",
            " [7.3 2.9 6.3 1.8]\n",
            " [6.7 2.5 5.8 1.8]\n",
            " [7.2 3.6 6.1 2.5]\n",
            " [6.5 3.2 5.1 2. ]\n",
            " [6.4 2.7 5.3 1.9]\n",
            " [6.8 3.  5.5 2.1]\n",
            " [5.7 2.5 5.  2. ]\n",
            " [5.8 2.8 5.1 2.4]\n",
            " [6.4 3.2 5.3 2.3]\n",
            " [6.5 3.  5.5 1.8]\n",
            " [7.7 3.8 6.7 2.2]\n",
            " [7.7 2.6 6.9 2.3]\n",
            " [6.  2.2 5.  1.5]\n",
            " [6.9 3.2 5.7 2.3]\n",
            " [5.6 2.8 4.9 2. ]\n",
            " [7.7 2.8 6.7 2. ]\n",
            " [6.3 2.7 4.9 1.8]\n",
            " [6.7 3.3 5.7 2.1]\n",
            " [7.2 3.2 6.  1.8]\n",
            " [6.2 2.8 4.8 1.8]\n",
            " [6.1 3.  4.9 1.8]\n",
            " [6.4 2.8 5.6 2.1]\n",
            " [7.2 3.  5.8 1.6]\n",
            " [7.4 2.8 6.1 1.9]\n",
            " [7.9 3.8 6.4 2. ]\n",
            " [6.4 2.8 5.6 2.2]\n",
            " [6.3 2.8 5.1 1.5]\n",
            " [6.1 2.6 5.6 1.4]\n",
            " [7.7 3.  6.1 2.3]\n",
            " [6.3 3.4 5.6 2.4]\n",
            " [6.4 3.1 5.5 1.8]\n",
            " [6.  3.  4.8 1.8]\n",
            " [6.9 3.1 5.4 2.1]\n",
            " [6.7 3.1 5.6 2.4]\n",
            " [6.9 3.1 5.1 2.3]\n",
            " [5.8 2.7 5.1 1.9]\n",
            " [6.8 3.2 5.9 2.3]\n",
            " [6.7 3.3 5.7 2.5]\n",
            " [6.7 3.  5.2 2.3]\n",
            " [6.3 2.5 5.  1.9]\n",
            " [6.5 3.  5.2 2. ]\n",
            " [6.2 3.4 5.4 2.3]\n",
            " [5.9 3.  5.1 1.8]]\n"
          ]
        }
      ]
    },
    {
      "cell_type": "code",
      "source": [
        "plt.scatter(matriz2[:,0], matriz2[:,1])\n",
        "plt.xlabel('X')\n",
        "plt.ylabel('Y')\n",
        "plt.title('Scatter plot')\n",
        "plt.show()"
      ],
      "metadata": {
        "colab": {
          "base_uri": "https://localhost:8080/",
          "height": 472
        },
        "id": "_gLnYl7jP-xE",
        "outputId": "eab13fcf-f189-4d29-f233-ee018f6f5c04"
      },
      "execution_count": 5,
      "outputs": [
        {
          "output_type": "display_data",
          "data": {
            "text/plain": [
              "<Figure size 640x480 with 1 Axes>"
            ],
            "image/png": "[encoded data removed]"
          },
          "metadata": {}
        }
      ]
    },
    {
      "cell_type": "code",
      "source": [
        "from sklearn.decomposition import PCA\n",
        "pca = PCA(n_components=2)\n",
        "pca_1= pca.fit_transform(matriz2)\n",
        "pca_1.shape\n"
      ],
      "metadata": {
        "colab": {
          "base_uri": "https://localhost:8080/"
        },
        "id": "RPWMH4nkPUbs",
        "outputId": "6946c41c-cdf0-426d-d406-b44166073c60"
      },
      "execution_count": 6,
      "outputs": [
        {
          "output_type": "execute_result",
          "data": {
            "text/plain": [
              "(150, 2)"
            ]
          },
          "metadata": {},
          "execution_count": 6
        }
      ]
    },
    {
      "cell_type": "markdown",
      "source": [
        "**¿Que devuelve la salida?**\n",
        "La salida devuelve una tupla la cual nos proporciona el número de filas y columnas de la matriz resultante después de aplicar la transformación PCA."
      ],
      "metadata": {
        "id": "vl40FFBDLWAm"
      }
    },
    {
      "cell_type": "code",
      "source": [
        "pca.explained_variance_ratio_.sum()\n"
      ],
      "metadata": {
        "colab": {
          "base_uri": "https://localhost:8080/"
        },
        "id": "C6vc1WnkQVPK",
        "outputId": "55d3b072-51e8-483d-825d-6c8c364f5f29"
      },
      "execution_count": null,
      "outputs": [
        {
          "output_type": "execute_result",
          "data": {
            "text/plain": [
              "0.977685206318795"
            ]
          },
          "metadata": {},
          "execution_count": 6
        }
      ]
    },
    {
      "cell_type": "code",
      "source": [
        "import numpy as np\n",
        "import matplotlib.pyplot as plt\n",
        "from ast import literal_eval\n",
        "from sklearn.decomposition import PCA\n",
        "\n",
        "# Read CSV file and convert 'x' column to numpy array\n",
        "datos2 = pd.read_csv(ruta_completa, converters={\"x\": literal_eval})\n",
        "matriz2 = np.array(datos2[\"x\"].tolist())\n",
        "\n",
        "# Define 'target' array based on the 'clase' column\n",
        "target = datos2['clase'].values\n",
        "\n",
        "# Perform PCA\n",
        "pca = PCA(n_components=2)\n",
        "pca_1 = pca.fit_transform(matriz2)\n",
        "\n",
        "# Plot scatter plot with different colors for each class\n",
        "clases = [\"clase_0\", \"clase_1\", \"clase_2\"]\n",
        "color = [\"red\", \"blue\", \"black\"]\n",
        "for i in range(3):\n",
        "    plt.scatter(pca_1[target == i, 0], pca_1[target == i, 1], c=color[i], label=clases[i])\n",
        "    \n",
        "plt.xlabel('Componente 1 (' + str(round(pca.explained_variance_ratio_[0] * 100, 1)) + ' %)')\n",
        "plt.ylabel('Componente 2 (' + str(round(pca.explained_variance_ratio_[1] * 100, 1)) + ' %)')\n",
        "plt.legend()\n",
        "plt.show()\n"
      ],
      "metadata": {
        "colab": {
          "base_uri": "https://localhost:8080/",
          "height": 454
        },
        "id": "-dG-pHsdQg4R",
        "outputId": "81177768-de46-4c87-9a9b-0b8bd070136b"
      },
      "execution_count": 12,
      "outputs": [
        {
          "output_type": "display_data",
          "data": {
            "text/plain": [
              "<Figure size 640x480 with 1 Axes>"
            ],
            "image/png": "[encoded data removed]"
          },
          "metadata": {}
        }
      ]
    },
    {
      "cell_type": "markdown",
      "source": [
        "**¿Cómo se encuentran repartidas las clases ?**\n",
        "La clase 0 se encuentra de gran manera en el componente 2, mientras que en la componente 1 se encuentran distribuidas la clases 1 y clase 2. "
      ],
      "metadata": {
        "id": "TprZmu0AQgNH"
      }
    },
    {
      "cell_type": "code",
      "source": [
        "from sklearn.decomposition import PCA\n",
        "import pandas as pd\n",
        "import matplotlib.pyplot as plt\n",
        "%matplotlib inline\n",
        "import numpy as np\n",
        "import seaborn as sns\n",
        "import warnings\n",
        "warnings.filterwarnings('ignore')\n",
        "\n",
        "nombres = [\"var0\", \"var1\", \"var2\", \"var3\"]\n",
        "\n",
        "pca = PCA(n_components=2) # Definición del objeto PCA\n",
        "\n",
        "pca.fit(matriz2) # Ajustar el modelo PCA a los datos\n",
        "\n",
        "componentes_principales = pca.components_[:2] # Seleccionar las primeras dos componentes principales\n",
        "dataframe_pca = pd.DataFrame({\"Variables\" : nombres, \"Componente 1\" : componentes_principales[0], \"Componente 2\" : componentes_principales[1]})\n",
        "print(dataframe_pca)"
      ],
      "metadata": {
        "colab": {
          "base_uri": "https://localhost:8080/"
        },
        "id": "14dRGoCMNQHr",
        "outputId": "6bf8ef70-f802-4a48-d1cf-d9f38efb019f"
      },
      "execution_count": 15,
      "outputs": [
        {
          "output_type": "stream",
          "name": "stdout",
          "text": [
            "  Variables  Componente 1  Componente 2\n",
            "0      var0      0.361387      0.656589\n",
            "1      var1     -0.084523      0.730161\n",
            "2      var2      0.856671     -0.173373\n",
            "3      var3      0.358289     -0.075481\n"
          ]
        }
      ]
    },
    {
      "cell_type": "markdown",
      "source": [
        "**Comente los resultados obtenidos y haga una investigación más profunda\n",
        "sobre PCA, cómo método de reducción de orden.**\n",
        "\n",
        "Se utiliza para encontrar patrones y relaciones en datos multidimensionales. El objetivo principal de PCA es reducir la dimensionalidad del conjunto de datos, es decir, reducir el número de variables o dimensiones en un conjunto de datos.\n",
        "\n",
        "PCA trabaja mediante la construcción de nuevas variables llamadas componentes principales, que son combinaciones lineales de las variables originales en el conjunto de datos. Estas nuevas variables son ordenadas de acuerdo a su importancia, siendo la primera componente principal la que explica la mayor cantidad de variabilidad en los datos, la segunda componente principal explica la siguiente cantidad más grande de variabilidad, y así sucesivamente.\n"
      ],
      "metadata": {
        "id": "pRj-K3CtNLI7"
      }
    }
  ]
}